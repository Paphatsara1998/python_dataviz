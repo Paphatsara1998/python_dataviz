{
 "cells": [
  {
   "cell_type": "markdown",
   "metadata": {},
   "source": [
    "# 1.Function \n",
    "### print ชื่อ XXX นามสกุล YYY รหัส ZZZ (บรรทัดแรก)\n",
    "### print เกรด วิชา Stat 1 >>AAA"
   ]
  },
  {
   "cell_type": "code",
   "execution_count": 2,
   "metadata": {},
   "outputs": [
    {
     "name": "stdout",
     "output_type": "stream",
     "text": [
      "ชื่อ ปภัสรา นามสกุล ปัญจารักษ์ รหัส 603021871-4\n"
     ]
    }
   ],
   "source": [
    "a = f'ชื่อ ปภัสรา นามสกุล ปัญจารักษ์ รหัส 603021871-4'\n",
    "print(a)"
   ]
  },
  {
   "cell_type": "markdown",
   "metadata": {},
   "source": [
    "ถ้าเราจะเปลี่ยนเป็นชื่อคนอื่น"
   ]
  },
  {
   "cell_type": "code",
   "execution_count": 6,
   "metadata": {},
   "outputs": [
    {
     "name": "stdout",
     "output_type": "stream",
     "text": [
      "ชื่อ ปภัสรา นามสกุล ปัญจารักษ์ รหัส 603021871-4\n"
     ]
    }
   ],
   "source": [
    "name = 'ปภัสรา'\n",
    "surname= 'ปัญจารักษ์'\n",
    "ID = '603021871-4'\n",
    "b= f'ชื่อ {name} นามสกุล {surname} รหัส {ID}'\n",
    "print(b)"
   ]
  },
  {
   "cell_type": "markdown",
   "metadata": {},
   "source": [
    "### def (การกำหนดนิยามของฟังก์ชั่นก่อน)"
   ]
  },
  {
   "cell_type": "markdown",
   "metadata": {},
   "source": [
    "## function template"
   ]
  },
  {
   "cell_type": "markdown",
   "metadata": {},
   "source": [
    "```python\n",
    "def function_name1(Input):\n",
    "    do_something\n",
    "    return output\n",
    "```"
   ]
  },
  {
   "cell_type": "markdown",
   "metadata": {},
   "source": [
    "## normai function"
   ]
  },
  {
   "cell_type": "code",
   "execution_count": 13,
   "metadata": {},
   "outputs": [],
   "source": [
    "def print_line1(name1,surname1,ID1):\n",
    "    st = f'ชื่อ {name1} นามสกุล {surname1} รหัส {ID1}'\n",
    "    return st"
   ]
  },
  {
   "cell_type": "code",
   "execution_count": 14,
   "metadata": {},
   "outputs": [
    {
     "name": "stdout",
     "output_type": "stream",
     "text": [
      "ชื่อ กาญจนา นามสกุล ประสาคุณ รหัส ุ603021855-2\n"
     ]
    }
   ],
   "source": [
    "print(print_line1('กาญจนา','ประสาคุณ','ุ603021855-2'))"
   ]
  },
  {
   "cell_type": "markdown",
   "metadata": {},
   "source": [
    "## function without output"
   ]
  },
  {
   "cell_type": "markdown",
   "metadata": {},
   "source": [
    "อยากได้ฟังก์ชั่นที่printทั้ง2line"
   ]
  },
  {
   "cell_type": "code",
   "execution_count": 22,
   "metadata": {},
   "outputs": [],
   "source": [
    "def print_2lines(name1,surname1,ID1,grade):\n",
    "    st = f'ชื่อ {name1} นามสกุล {surname1} รหัส {ID1}'\n",
    "    print(st)\n",
    "    st2 = f'เกรดวิชา stat1 >>> {grade}'\n",
    "    print(st2)"
   ]
  },
  {
   "cell_type": "code",
   "execution_count": 24,
   "metadata": {},
   "outputs": [
    {
     "name": "stdout",
     "output_type": "stream",
     "text": [
      "ชื่อ กาญจนา นามสกุล ประสาคุณ รหัส ุ603021855-2\n",
      "เกรดวิชา stat1 >>> A\n"
     ]
    }
   ],
   "source": [
    "print_2lines('กาญจนา','ประสาคุณ','ุ603021855-2','A')"
   ]
  },
  {
   "cell_type": "code",
   "execution_count": 25,
   "metadata": {},
   "outputs": [
    {
     "name": "stdout",
     "output_type": "stream",
     "text": [
      "ชื่อ ปภัสรา นามสกุล ปัญจารักษ์ รหัส ุ603021871-4\n",
      "เกรดวิชา stat1 >>> A\n",
      "ชื่อ ปนัดดา นามสกุล เกษอรุณศรี รหัส ุ603021870-6\n",
      "เกรดวิชา stat1 >>> A\n",
      "ชื่อ ขวัญจิรา นามสกุล คำสรดี รหัส ุ603021106-3\n",
      "เกรดวิชา stat1 >>> A\n",
      "ชื่อ นิธิศ นามสกุล ประวิตรกาญจน์ รหัส ุ603021869-1\n",
      "เกรดวิชา stat1 >>> A\n"
     ]
    }
   ],
   "source": [
    "print_2lines('ปภัสรา','ปัญจารักษ์','ุ603021871-4','A')\n",
    "print_2lines('ปนัดดา','เกษอรุณศรี','ุ603021870-6','A')\n",
    "print_2lines('ขวัญจิรา','คำสรดี','ุ603021106-3','A')\n",
    "print_2lines('นิธิศ','ประวิตรกาญจน์','ุ603021869-1','A')"
   ]
  },
  {
   "cell_type": "markdown",
   "metadata": {},
   "source": [
    "### function without input"
   ]
  },
  {
   "cell_type": "code",
   "execution_count": 30,
   "metadata": {},
   "outputs": [],
   "source": [
    "def two_x_three():\n",
    "    x = 2*3\n",
    "    return x"
   ]
  },
  {
   "cell_type": "code",
   "execution_count": 31,
   "metadata": {},
   "outputs": [
    {
     "data": {
      "text/plain": [
       "6"
      ]
     },
     "execution_count": 31,
     "metadata": {},
     "output_type": "execute_result"
    }
   ],
   "source": [
    "two_x_three()"
   ]
  },
  {
   "cell_type": "markdown",
   "metadata": {},
   "source": [
    "### function with default argument"
   ]
  },
  {
   "cell_type": "code",
   "execution_count": 33,
   "metadata": {},
   "outputs": [],
   "source": [
    "def print_2lines_default(name1,surname1,ID1,grade='F'):\n",
    "    st = f'ชื่อ {name1} นามสกุล {surname1} รหัส {ID1}'\n",
    "    print(st)\n",
    "    st2 = f'เกรดวิชา stat1 >>> {grade}'\n",
    "    print(st2)"
   ]
  },
  {
   "cell_type": "code",
   "execution_count": 35,
   "metadata": {},
   "outputs": [
    {
     "name": "stdout",
     "output_type": "stream",
     "text": [
      "ชื่อ กาญจนา นามสกุล ประสาคุณ รหัส ุ603021855-2\n",
      "เกรดวิชา stat1 >>> F\n"
     ]
    }
   ],
   "source": [
    "print_2lines_default('กาญจนา','ประสาคุณ','ุ603021855-2')"
   ]
  },
  {
   "cell_type": "code",
   "execution_count": 36,
   "metadata": {},
   "outputs": [
    {
     "name": "stdout",
     "output_type": "stream",
     "text": [
      "ชื่อ กาญจนา นามสกุล ประสาคุณ รหัส ุ603021855-2\n",
      "เกรดวิชา stat1 >>> A+\n"
     ]
    }
   ],
   "source": [
    "print_2lines_default('กาญจนา','ประสาคุณ','ุ603021855-2','A+')"
   ]
  },
  {
   "cell_type": "code",
   "execution_count": 37,
   "metadata": {},
   "outputs": [
    {
     "name": "stdout",
     "output_type": "stream",
     "text": [
      "ชื่อ ประสาคุณ นามสกุล กาญจนา รหัส ุ603021855-2\n",
      "เกรดวิชา stat1 >>> F\n"
     ]
    }
   ],
   "source": [
    "print_2lines_default(surname1 = 'กาญจนา',name1 = 'ประสาคุณ',ID1 = 'ุ603021855-2')"
   ]
  },
  {
   "cell_type": "markdown",
   "metadata": {},
   "source": [
    "."
   ]
  },
  {
   "cell_type": "markdown",
   "metadata": {},
   "source": [
    "."
   ]
  },
  {
   "cell_type": "markdown",
   "metadata": {},
   "source": [
    "# 2.Loop(วนซ้ำ)"
   ]
  },
  {
   "cell_type": "markdown",
   "metadata": {},
   "source": [
    "```python\n",
    "    for each_member in listA\n",
    "        do something\n",
    "```"
   ]
  },
  {
   "cell_type": "code",
   "execution_count": 39,
   "metadata": {},
   "outputs": [
    {
     "name": "stdout",
     "output_type": "stream",
     "text": [
      "1\n",
      "2\n",
      "3\n"
     ]
    }
   ],
   "source": [
    "for i in [1,2,3]:\n",
    "    print(i)"
   ]
  },
  {
   "cell_type": "code",
   "execution_count": 46,
   "metadata": {},
   "outputs": [
    {
     "name": "stdout",
     "output_type": "stream",
     "text": [
      "p->/\n",
      "a->/\n",
      "p->/\n",
      "h->/\n",
      "a->/\n",
      "t->/\n",
      "s->/\n",
      "a->/\n",
      "r->/\n",
      "a->/\n"
     ]
    }
   ],
   "source": [
    "for i in 'paphatsara':\n",
    "    print(f'{i}->/')"
   ]
  },
  {
   "cell_type": "code",
   "execution_count": 47,
   "metadata": {},
   "outputs": [
    {
     "name": "stdout",
     "output_type": "stream",
     "text": [
      "p -> /\n",
      " \n",
      "a -> /\n",
      " \n",
      "p -> /\n",
      " \n",
      "h -> /\n",
      " \n",
      "a -> /\n",
      " \n",
      "t -> /\n",
      " \n",
      "s -> /\n",
      " \n",
      "a -> /\n",
      " \n",
      "r -> /\n",
      " \n",
      "a -> /\n",
      " \n"
     ]
    }
   ],
   "source": [
    "for i in 'paphatsara':\n",
    "    print(f'{i} -> /')\n",
    "    print(' ')"
   ]
  },
  {
   "cell_type": "markdown",
   "metadata": {},
   "source": [
    "## 1 สร้างlist ชื่อเพื่อนที่อยู๋ในแถวยาวเดียวกัน \n",
    "## สร้างfunction print ประโยคว่า ชื่อเรา รัก เพื่อน (XXX YYY ZZZ)\n",
    "## 2 วนลูป เรียก function โดยเปลี่ยนชื่อเพื่อนไปเรื่อยๆ"
   ]
  },
  {
   "cell_type": "markdown",
   "metadata": {},
   "source": [
    "#### แบบที่ 1"
   ]
  },
  {
   "cell_type": "code",
   "execution_count": 51,
   "metadata": {},
   "outputs": [],
   "source": [
    "list_name = ['เนส','แคน','ออย','ฟลุ๊ต','แบม','ผิง']"
   ]
  },
  {
   "cell_type": "code",
   "execution_count": 52,
   "metadata": {},
   "outputs": [
    {
     "data": {
      "text/plain": [
       "['เนส', 'แคน', 'ออย', 'ฟลุ๊ต', 'แบม', 'ผิง']"
      ]
     },
     "execution_count": 52,
     "metadata": {},
     "output_type": "execute_result"
    }
   ],
   "source": [
    "list_name"
   ]
  },
  {
   "cell_type": "markdown",
   "metadata": {},
   "source": [
    "##### function in loop"
   ]
  },
  {
   "cell_type": "code",
   "execution_count": 79,
   "metadata": {},
   "outputs": [],
   "source": [
    "def print_output(I,feeling,friend):\n",
    "       print(f'{I} {feeling} {friend}')"
   ]
  },
  {
   "cell_type": "code",
   "execution_count": 84,
   "metadata": {},
   "outputs": [
    {
     "name": "stdout",
     "output_type": "stream",
     "text": [
      "แป้งรักเนส\n"
     ]
    }
   ],
   "source": [
    "print_output('แป้ง','รัก','เนส')"
   ]
  },
  {
   "cell_type": "code",
   "execution_count": 86,
   "metadata": {},
   "outputs": [
    {
     "name": "stdout",
     "output_type": "stream",
     "text": [
      "แป้งรักเนส\n",
      "แป้งรักแคน\n",
      "แป้งรักออย\n",
      "แป้งรักฟลุ๊ต\n",
      "แป้งรักแบม\n",
      "แป้งรักผิง\n"
     ]
    }
   ],
   "source": [
    "for f in list_name:\n",
    "        print_output('แป้ง','รัก',f)"
   ]
  },
  {
   "cell_type": "markdown",
   "metadata": {},
   "source": [
    "#### แบบที่ 2"
   ]
  },
  {
   "cell_type": "markdown",
   "metadata": {},
   "source": [
    "##### loop in function"
   ]
  },
  {
   "cell_type": "markdown",
   "metadata": {},
   "source": [
    "การสร้างลูปเข้าไปในฟังก์ชั่น"
   ]
  },
  {
   "cell_type": "code",
   "execution_count": 90,
   "metadata": {},
   "outputs": [],
   "source": [
    "def print_feelings(I,feeling,friends):\n",
    "        for friend in friends:\n",
    "            print(f'{I} {feeling} {friend}')"
   ]
  },
  {
   "cell_type": "code",
   "execution_count": 91,
   "metadata": {},
   "outputs": [
    {
     "name": "stdout",
     "output_type": "stream",
     "text": [
      "แป้ง รัก เนส\n",
      "แป้ง รัก แคน\n",
      "แป้ง รัก ออย\n",
      "แป้ง รัก ฟลุ๊ต\n",
      "แป้ง รัก แบม\n",
      "แป้ง รัก ผิง\n"
     ]
    }
   ],
   "source": [
    "print_feelings('แป้ง','รัก',list_name)"
   ]
  },
  {
   "cell_type": "markdown",
   "metadata": {},
   "source": [
    "### looping in dict"
   ]
  },
  {
   "cell_type": "markdown",
   "metadata": {},
   "source": [
    "วนลุปในdict"
   ]
  },
  {
   "cell_type": "code",
   "execution_count": 94,
   "metadata": {},
   "outputs": [
    {
     "data": {
      "text/plain": [
       "{'ปภัสรา': 'A', 'พันทิพา': 'B'}"
      ]
     },
     "execution_count": 94,
     "metadata": {},
     "output_type": "execute_result"
    }
   ],
   "source": [
    "name_grade = {'ปภัสรา' : 'A' , 'พันทิพา' : 'B'}\n",
    "name_grade        "
   ]
  },
  {
   "cell_type": "code",
   "execution_count": 95,
   "metadata": {},
   "outputs": [
    {
     "data": {
      "text/plain": [
       "'A'"
      ]
     },
     "execution_count": 95,
     "metadata": {},
     "output_type": "execute_result"
    }
   ],
   "source": [
    "name_grade ['ปภัสรา']"
   ]
  },
  {
   "cell_type": "code",
   "execution_count": 96,
   "metadata": {},
   "outputs": [
    {
     "data": {
      "text/plain": [
       "dict_keys(['ปภัสรา', 'พันทิพา'])"
      ]
     },
     "execution_count": 96,
     "metadata": {},
     "output_type": "execute_result"
    }
   ],
   "source": [
    "name_grade.keys()"
   ]
  },
  {
   "cell_type": "code",
   "execution_count": 97,
   "metadata": {},
   "outputs": [
    {
     "name": "stdout",
     "output_type": "stream",
     "text": [
      "ปภัสรา ได้เกรด A\n",
      "พันทิพา ได้เกรด B\n"
     ]
    }
   ],
   "source": [
    "for i in name_grade.keys():\n",
    "    print(f'{i} ได้เกรด {name_grade[i]}')"
   ]
  },
  {
   "cell_type": "markdown",
   "metadata": {},
   "source": [
    "### loop in loop"
   ]
  },
  {
   "cell_type": "code",
   "execution_count": 104,
   "metadata": {},
   "outputs": [
    {
     "name": "stdout",
     "output_type": "stream",
     "text": [
      "เนสรักเนส\n",
      "เนสรักแคน\n",
      "เนสรักออย\n",
      "เนสรักฟลุ๊ต\n",
      "เนสรักแบม\n",
      "เนสรักผิง\n",
      "แคนรักเนส\n",
      "แคนรักแคน\n",
      "แคนรักออย\n",
      "แคนรักฟลุ๊ต\n",
      "แคนรักแบม\n",
      "แคนรักผิง\n",
      "ออยรักเนส\n",
      "ออยรักแคน\n",
      "ออยรักออย\n",
      "ออยรักฟลุ๊ต\n",
      "ออยรักแบม\n",
      "ออยรักผิง\n",
      "ฟลุ๊ตรักเนส\n",
      "ฟลุ๊ตรักแคน\n",
      "ฟลุ๊ตรักออย\n",
      "ฟลุ๊ตรักฟลุ๊ต\n",
      "ฟลุ๊ตรักแบม\n",
      "ฟลุ๊ตรักผิง\n",
      "แบมรักเนส\n",
      "แบมรักแคน\n",
      "แบมรักออย\n",
      "แบมรักฟลุ๊ต\n",
      "แบมรักแบม\n",
      "แบมรักผิง\n",
      "ผิงรักเนส\n",
      "ผิงรักแคน\n",
      "ผิงรักออย\n",
      "ผิงรักฟลุ๊ต\n",
      "ผิงรักแบม\n",
      "ผิงรักผิง\n"
     ]
    }
   ],
   "source": [
    "for name1 in list_name:\n",
    "        for name2 in list_name:\n",
    "            print_output(name1,'รัก',name2)"
   ]
  },
  {
   "cell_type": "markdown",
   "metadata": {},
   "source": [
    "# 3.Conditional ประโยคเงื่อนไข"
   ]
  },
  {
   "cell_type": "markdown",
   "metadata": {},
   "source": [
    "# ==, != , >= , <= , < , >"
   ]
  },
  {
   "cell_type": "markdown",
   "metadata": {},
   "source": [
    "```python\n",
    "if condition1:\n",
    "    do something\n",
    "elif condition2:\n",
    "    do another thing\n",
    "else:\n",
    "    do ...\n",
    "```"
   ]
  },
  {
   "cell_type": "code",
   "execution_count": 109,
   "metadata": {},
   "outputs": [
    {
     "name": "stdout",
     "output_type": "stream",
     "text": [
      "เนสรักแคน\n",
      "เนสรักออย\n",
      "เนสรักฟลุ๊ต\n",
      "เนสรักแบม\n",
      "เนสรักผิง\n",
      "แคนรักเนส\n",
      "แคนรักออย\n",
      "แคนรักฟลุ๊ต\n",
      "แคนรักแบม\n",
      "แคนรักผิง\n",
      "ออยรักเนส\n",
      "ออยรักแคน\n",
      "ออยรักฟลุ๊ต\n",
      "ออยรักแบม\n",
      "ออยรักผิง\n",
      "ฟลุ๊ตรักเนส\n",
      "ฟลุ๊ตรักแคน\n",
      "ฟลุ๊ตรักออย\n",
      "ฟลุ๊ตรักแบม\n",
      "ฟลุ๊ตรักผิง\n",
      "แบมรักเนส\n",
      "แบมรักแคน\n",
      "แบมรักออย\n",
      "แบมรักฟลุ๊ต\n",
      "แบมรักผิง\n",
      "ผิงรักเนส\n",
      "ผิงรักแคน\n",
      "ผิงรักออย\n",
      "ผิงรักฟลุ๊ต\n",
      "ผิงรักแบม\n"
     ]
    }
   ],
   "source": [
    "for name1 in list_name:\n",
    "        for name2 in list_name:\n",
    "            if name1 != name2:\n",
    "                 print_output(name1,'รัก',name2)"
   ]
  },
  {
   "cell_type": "code",
   "execution_count": 113,
   "metadata": {},
   "outputs": [
    {
     "name": "stdout",
     "output_type": "stream",
     "text": [
      "Yes\n"
     ]
    }
   ],
   "source": [
    "if True:\n",
    "    print('Yes')"
   ]
  },
  {
   "cell_type": "code",
   "execution_count": 115,
   "metadata": {},
   "outputs": [
    {
     "name": "stdout",
     "output_type": "stream",
     "text": [
      "No\n"
     ]
    }
   ],
   "source": [
    "if False:\n",
    "    print('Yes')\n",
    "else:\n",
    "    print('No')"
   ]
  },
  {
   "cell_type": "code",
   "execution_count": 116,
   "metadata": {},
   "outputs": [
    {
     "data": {
      "text/plain": [
       "True"
      ]
     },
     "execution_count": 116,
     "metadata": {},
     "output_type": "execute_result"
    }
   ],
   "source": [
    "1 == 1"
   ]
  },
  {
   "cell_type": "code",
   "execution_count": 117,
   "metadata": {},
   "outputs": [
    {
     "name": "stdout",
     "output_type": "stream",
     "text": [
      "1=1\n"
     ]
    }
   ],
   "source": [
    "if 1 == 1:\n",
    "    print('1=1')"
   ]
  },
  {
   "cell_type": "markdown",
   "metadata": {},
   "source": [
    "## HW\n",
    "เขียนฟังก์ชั่นตัดเกรด โดยที่ input เป็นคะแนน(0-100) output เป็นเกรด(F-A)\n",
    "input\n",
    "[1,50,65,90,101,-5,49]"
   ]
  },
  {
   "cell_type": "code",
   "execution_count": null,
   "metadata": {},
   "outputs": [],
   "source": []
  }
 ],
 "metadata": {
  "kernelspec": {
   "display_name": "Python 3",
   "language": "python",
   "name": "python3"
  },
  "language_info": {
   "codemirror_mode": {
    "name": "ipython",
    "version": 3
   },
   "file_extension": ".py",
   "mimetype": "text/x-python",
   "name": "python",
   "nbconvert_exporter": "python",
   "pygments_lexer": "ipython3",
   "version": "3.7.3"
  }
 },
 "nbformat": 4,
 "nbformat_minor": 2
}
